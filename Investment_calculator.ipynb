{
 "cells": [
  {
   "cell_type": "code",
   "execution_count": 1,
   "metadata": {},
   "outputs": [
    {
     "name": "stdout",
     "output_type": "stream",
     "text": [
      "it takes 16 years to reach $1m\n"
     ]
    }
   ],
   "source": [
    "#mapping the growth of money over time given a certian interest rate\n",
    "capital = 100000\n",
    "interest_rate = 0.1\n",
    "time = list(range(0, 100))\n",
    "#if you have a job, you will save 10% of your annual income. This will be contributed to your investments. We assume that each year, you get a 3% raise to keep up with inflation.\n",
    "income = 100000\n",
    "income_raise = 0.03\n",
    "savings_rate = 0.1\n",
    "#now finding how many years it takes to reach $1m    \n",
    "for y in time:\n",
    "    savings = income * savings_rate\n",
    "    capital = (capital+ savings) + (capital+savings) * interest_rate\n",
    "    income = income + income*income_raise\n",
    "    if capital > 1000000:\n",
    "        break\n",
    "  \n",
    "print(\"it takes\", y, \"years to reach $1m\")"
   ]
  },
  {
   "cell_type": "code",
   "execution_count": null,
   "metadata": {},
   "outputs": [],
   "source": []
  },
  {
   "cell_type": "code",
   "execution_count": null,
   "metadata": {},
   "outputs": [],
   "source": []
  }
 ],
 "metadata": {
  "interpreter": {
   "hash": "1c7efd5eaf11cb0c5360e043bcc8725c064f0211c7d3fa8b181e1c1eded0025d"
  },
  "kernelspec": {
   "display_name": "Python 3.7.10 64-bit ('python_practice': conda)",
   "name": "python3"
  },
  "language_info": {
   "codemirror_mode": {
    "name": "ipython",
    "version": 3
   },
   "file_extension": ".py",
   "mimetype": "text/x-python",
   "name": "python",
   "nbconvert_exporter": "python",
   "pygments_lexer": "ipython3",
   "version": "3.7.10"
  },
  "orig_nbformat": 4
 },
 "nbformat": 4,
 "nbformat_minor": 2
}